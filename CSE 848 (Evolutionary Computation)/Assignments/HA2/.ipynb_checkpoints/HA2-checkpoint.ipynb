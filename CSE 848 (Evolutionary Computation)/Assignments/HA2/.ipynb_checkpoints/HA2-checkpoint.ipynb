{
 "cells": [
  {
   "cell_type": "markdown",
   "metadata": {},
   "source": [
    "**1. There is much current research in producing autonomous vehicles that can be used on real roads. For each of the following capabilities that such a system should exhibit, state whether they are an optimisation, modelling, or simulation problem. Explain your reasoning.\\\n",
    "(a) Steering in the middle of the road.\\\n",
    "(b) Avoiding a child that runs into the road.\\\n",
    "(c) Recognizing a traffic sign in a video feed as the vehicle drives along.\\\n",
    "(d) Planning shortest, or quickest, route between two places.\\\n",
    "(e) Learning to recognize traffic signs.**\n",
    "\n",
    "**Response:**\\\n",
    "In the given scenario, the tasks **(a), (b), (c)** performed by the autonomous vehicle are **simulation**s. For completing these tasks, the autonomous vehicle model has already been trained to steer in the middle of the road, avoid a person standing on the line of the car's direcetion and recognize traffic signs from video feeds. So, the model is already known. The input instructions are also known at the moment. These are traits of simulation.\n",
    "\n",
    "On the other hand, in **(d)**, the car is trying to find the best possible solution for the routing problem invloving a source and a destination. So, this is **optimization**.\n",
    "\n",
    "Finally, in **(e)**, the car is developing the model based on inputs and their corresponding outputs. So, this is a **Modelling** task."
   ]
  },
  {
   "cell_type": "markdown",
   "metadata": {},
   "source": [
    "**2. List the three kinds of learning that can be discerned in Machine Learning. Give an example of each and explain, why it falls into that category of learning.**\n",
    "\n",
    "**Response:**\\\n",
    "The learning process can be divided into three types based on the problem at hand:\n",
    "1. Supervised Learning.\n",
    "2. Unsupervised Learning.\n",
    "3. Reinforcement Learning.\n",
    "\n",
    "The three processes can be explained using different examples as follows:\\\n",
    "**Supervised Learning:** Supervised Learning process is applicable when training data consists of samples along with their associated labels. The process then tries to learn a function which maps the training samples to the corresponding labels. When a completely new sample is encountered, the learned model tries to find an appropriate label for the sample.\\\n",
    "**Ex-Classification**.\\\n",
    "In classification, the task is to tag the samples to appropriate classes. Supervised learning is first used on the training samples (which already have associated class labels) and then the trained model is used on test samples where the job is to assign the samples to the most appropriate classes encountered during the training.\n",
    "\n",
    "**Unsupervised Learning:** When the training samples don't have any associated labels, unsupervised learning can be used. This type of learning process tries to extract distributions and statistical patterns from the training data. Then the trained model uses the same learned pattern to estimate the association of the new samples with the training samples.\\\n",
    "**Ex-Clustering**\\\n",
    "The process of grouping data with respect to statistical similarity (or dissimilarity) is known as clustering. Clustering problems require unsupervised learning techniques because the training data don't have any labels from the beginning. After clustering training samples to appropriate groups, the trained model tries to associate the new samples to one of the groups found via training.\n",
    "\n",
    "**Reinforcement Learning:** Reinforcement Learning (RL) process is a process which uses feedback from the learning environment to improve the performance. Unlike the other processes discussed before, RL does not have a fixed training dataset, rather it has a specified goal. The learning process consists of performing a set of actions which provides a reward (or penalty) as a result, based on which (feedback mechanism) the next actions are taken to guide the learning process closer to the goal. Sometimes the feedback may get delayed in the learning process, then the effect is porpagated back over the previous steps.\\\n",
    "**Ex-Chess Player Bot**.\\\n",
    "Chess play is a great example of RL. Here, the game can be considered as a learning problem where the goal is to check the opponent's king. The actions performed by the player has some consequences - sometimes it is rewarding and sometimes it is not. The reward can be considered as capturing the opponent's chess pieces, while penalty can be considered to be the opponent capturing the player's pieces. But most of the times, reward or penalty is not immediate. So, once there is a reward or penalty, its effects must be propagated back to the previous actions. This is how RL works in a real scenario."
   ]
  },
  {
   "cell_type": "markdown",
   "metadata": {},
   "source": [
    "**3. The use of datasets in Machine Learning\\\n",
    "(a) Explain the difference between the three uses of datasets common in Machine Learning: (i) Training, (ii) validation, and (iii) testing.\\\n",
    "(b) Suppose your entire dataset has 10,000 samples. Roughly, how would you distribute your samples among them between training, validation and testing?\\\n",
    "(c) Another method to use datasets in ML is by n-fold cross-validation. Make yourself familiar with this method and explain it briefly. What is the advantage of n-fold cross-validation compared to the previous method?**\n",
    "\n",
    "**Response:**\\\n",
    "**(a)**\n",
    "<table>\n",
    "    <thead>\n",
    "        <tr>\n",
    "            <th>Training Data</th>\n",
    "            <th>Validation Data</th>\n",
    "            <th>Testing Data</th>\n",
    "        </tr>\n",
    "    </thead>\n",
    "    <tr> \n",
    "        <td>Training data is the information of the samples used to train the model. The model updates its configuration based on these samples in search for a generalized approximation of the sample relations.</td>\n",
    "        <td>Validation data is the data used to evalaute intermediate models while training. The models don't use these data samples for learning, rather they are used for computing evaluation metrics for the trained models.</td>\n",
    "        <td>Test data is entirely hidden from the model and never used in the learning process. After the model gets finalized, these data samples are used to compute the final efficacy of the model in a real-life deployed scenario.</td>\n",
    "    </tr>\n",
    "</table>\n",
    "\n",
    "**(b)**The given dataset is small in size. So, we can use a train-validation-test split of 60-20-20. It means that 60% of the entire data will be used for training the model, 20% will be used for validation and another 20% will be used for testing the final model.\n",
    "\n",
    "**(c)N-fold Cross Validation:**\\\n",
    "N-fold cross validation is a training scheme adapted by learning processes when the available data is less in quantity. The scheme divides the entire data in n folds and for each fold, the following operations are performed:\\\n",
    "(i) Hold the current fold.\\\n",
    "(ii) Rest of the (n-1) folds are used as training set for the model.\\\n",
    "(iii) After training, the held fold is used for validating the formed model.\\\n",
    "(iv) Store the validation outcomes and move to the next fold.\n",
    "\n",
    "After all the folds are utilized once for validation, an average result is computed from all the validation outcomes. This serves as the model performance.\n",
    "\n",
    "**Advantage**\\\n",
    "In the previous train-validation-test split scheme, the model may overfit the training data if the size of the data is too small. The trained data will be missing many aspects of the validation or training data. This high bias towards the training data degrades the performance of the overall model. On the other hand, in the second scheme, the entire data is split into training and validation sets and every time some different sets of data are used for training which reduces the bias towards the training data and helps the model to generalize."
   ]
  },
  {
   "cell_type": "code",
   "execution_count": null,
   "metadata": {},
   "outputs": [],
   "source": []
  }
 ],
 "metadata": {
  "kernelspec": {
   "display_name": "Python 3",
   "language": "python",
   "name": "python3"
  },
  "language_info": {
   "codemirror_mode": {
    "name": "ipython",
    "version": 3
   },
   "file_extension": ".py",
   "mimetype": "text/x-python",
   "name": "python",
   "nbconvert_exporter": "python",
   "pygments_lexer": "ipython3",
   "version": "3.8.5"
  }
 },
 "nbformat": 4,
 "nbformat_minor": 4
}
