{
 "cells": [
  {
   "cell_type": "markdown",
   "metadata": {},
   "source": [
    "**Q3. In Lecture 7, the 8-Queens problem was introduced.\n",
    "Write an evolutionary algorithm to solve this problem and compare it to an exhaustive algorithm \n",
    "that takes only into account the constraints of the board (one queen only in one row and column).**"
   ]
  },
  {
   "cell_type": "markdown",
   "metadata": {},
   "source": [
    "# N-Queens Problem (generalized version of 8-Queens Problem)"
   ]
  },
  {
   "cell_type": "code",
   "execution_count": 1,
   "metadata": {},
   "outputs": [],
   "source": [
    "# import libraries\n",
    "\n",
    "import numpy as np\n",
    "import itertools"
   ]
  },
  {
   "cell_type": "code",
   "execution_count": 21,
   "metadata": {},
   "outputs": [],
   "source": [
    "# define the chessboard dimension (8 for 8-Queens Problem)\n",
    "\n",
    "N = 15"
   ]
  },
  {
   "cell_type": "markdown",
   "metadata": {},
   "source": [
    "## Board Representation\n",
    "Each board organization is represented using an N-dimensional vector repersenting some permutation of \\[1:N]. For example,   \n",
    "Consider a 4$\\times$4 board  \n",
    "The vector \\[0, 2, 1, 3] (used 0-indexing) then denotes the following structure: \n",
    "\n",
    "$\\begin{bmatrix} Q & 0 & 0 & 0\\\\ 0 & 0 & Q & 0\\\\ 0 & Q & 0 & 0\\\\ 0 & 0 & 0 & Q \\end{bmatrix}$  \n",
    "where Q denotes the presence of a Queen. For Column 0, the queen is at row 0. For column 1, the queen as row 2 and so on."
   ]
  },
  {
   "cell_type": "code",
   "execution_count": 3,
   "metadata": {},
   "outputs": [],
   "source": [
    "# helper functions\n",
    "\n",
    "def call_counter(fn):\n",
    "    # hierarchical function to count number of evaluation calls\n",
    "    def helper(*args, **kwargs):\n",
    "        helper.calls += 1\n",
    "        return fn(*args, **kwargs)\n",
    "        \n",
    "    helper.__name__ = fn.__name__\n",
    "    helper.calls = 0\n",
    "    return helper\n",
    "\n",
    "\n",
    "def evaluate_board(board_vec):\n",
    "    # function to evaluate the board\n",
    "    # attack_points is the total number of attacks the current board can lead to\n",
    "    attack_points = 0 \n",
    "    for loop1 in range(N):\n",
    "        for loop2 in range(N):\n",
    "            if(loop1 != loop2):\n",
    "                row_dif = abs(board_vec[loop1] - board_vec[loop2])\n",
    "                col_dif = abs(loop1 - loop2)\n",
    "                if(row_dif == col_dif): # condition for attacking\n",
    "                    attack_points += 1\n",
    "\n",
    "    return attack_points\n",
    "\n",
    "evaluate_board = call_counter(evaluate_board)"
   ]
  },
  {
   "cell_type": "markdown",
   "metadata": {},
   "source": [
    "## Exhaustive Search\n",
    "Keeps on iterating over the entire search space until a solution is obtained"
   ]
  },
  {
   "cell_type": "code",
   "execution_count": 25,
   "metadata": {},
   "outputs": [],
   "source": [
    "def exhaustive_search():\n",
    "    all_comb_board = list(itertools.permutations(np.arange(0, N))) # entire list of the solutions\n",
    "    valid_comb = None\n",
    "    \n",
    "    for comb in all_comb_board:\n",
    "        cur_comb = np.array(comb)\n",
    "        cur_attack_level = evaluate_board(cur_comb)\n",
    "        if(cur_attack_level == 0):\n",
    "            valid_comb = cur_comb\n",
    "            break\n",
    "    \n",
    "    chess_board = np.zeros((N, N))\n",
    "    for i in range(N):\n",
    "        chess_board[valid_comb[i], i] = 1\n",
    "        \n",
    "    print('Number of function evaluations required: {}'.format(evaluate_board.calls))\n",
    "    print('final board vector: {}'.format(valid_comb))\n",
    "    print('Valid Combination:\\n{}'.format(chess_board))"
   ]
  },
  {
   "cell_type": "code",
   "execution_count": null,
   "metadata": {},
   "outputs": [],
   "source": [
    "exhaustive_search()"
   ]
  },
  {
   "cell_type": "markdown",
   "metadata": {},
   "source": [
    "## Evolutionary Algorithm\n",
    "Uses stochasticity to guide the search process to reach a near-optimal solution within an allowable time limit (here optimal)"
   ]
  },
  {
   "cell_type": "code",
   "execution_count": 4,
   "metadata": {},
   "outputs": [],
   "source": [
    "# helper functions for the EA\n",
    "\n",
    "def check_in_vector(vec, val):\n",
    "    # check whether val is in vec\n",
    "    IN = False\n",
    "    for i in vec:\n",
    "        if(i == val):\n",
    "            IN = True\n",
    "            break\n",
    "    return IN\n",
    "\n",
    "\n",
    "def rank(population, objective):\n",
    "    # rank the population according to increasing objective scores\n",
    "    idx = np.argsort(objective)\n",
    "    population = population[idx]\n",
    "    objective = objective[idx]\n",
    "    \n",
    "    return population, objective\n",
    "    \n",
    "    \n",
    "def mutation(solution, prob_mut=0.05):\n",
    "    # mutate (swapping values) solution with a probability of prob_mut\n",
    "    if(np.random.rand()<prob_mut):\n",
    "        pos_1, pos_2 = np.random.randint(0, N, 2)\n",
    "        solution[pos_1], solution[pos_2] = solution[pos_2], solution[pos_1]\n",
    "    return solution\n",
    "\n",
    "\n",
    "def selection(population, objective):\n",
    "    # function to perform tournament selection\n",
    "    K = 5\n",
    "    [num_pop, dim] = np.shape(population)\n",
    "    perm = np.random.permutation(num_pop)\n",
    "    pop_comb = perm[0:K]\n",
    "    tournament_pop = np.zeros((K, dim))\n",
    "    tournament_fit = np.zeros(K)\n",
    "\n",
    "    # creating tournament population\n",
    "    for i in range(K):\n",
    "        tournament_pop[i] = population[pop_comb[i]]\n",
    "        tournament_fit[i] = objective[pop_comb[i]]\n",
    "\n",
    "    # declaring winners\n",
    "    idx = np.argsort(tournament_fit)\n",
    "    parent_id1 = idx[0] \n",
    "    parent_id2 = idx[1]\n",
    "    return parent_id1, parent_id2\n",
    "\n",
    "    \n",
    "def crossover(parent_1, parent_2):\n",
    "    # perform one-point crossover\n",
    "    dim = len(list(parent_1))\n",
    "    crossover_point = np.random.randint(N)+1\n",
    "    \n",
    "    child_1 = np.zeros(dim)\n",
    "    child_2 = np.zeros(dim)\n",
    "    \n",
    "    # placing values till the crossover point\n",
    "    for i in range(crossover_point):\n",
    "        child_1[i] = parent_1[i]\n",
    "        child_2[i] = parent_2[i]\n",
    "    \n",
    "    # wrapping the values after crossover point \n",
    "    wrap_idx = 0\n",
    "    for i in range(crossover_point, dim):\n",
    "        if(not check_in_vector(child_1[0:i], parent_2[i])):\n",
    "            child_1[i] = parent_2[i]\n",
    "        else:\n",
    "            child_1[i] = parent_2[wrap_idx]\n",
    "            wrap_idx += 1\n",
    "    \n",
    "    wrap_idx = 0\n",
    "    for i in range(crossover_point, dim):\n",
    "        if(not check_in_vector(child_2[0:i], parent_1[i])):\n",
    "            child_2[i] = parent_1[i]\n",
    "        else:\n",
    "            child_2[i] = parent_1[wrap_idx]\n",
    "            wrap_idx += 1\n",
    "    \n",
    "    return child_1, child_2"
   ]
  },
  {
   "cell_type": "code",
   "execution_count": 11,
   "metadata": {},
   "outputs": [],
   "source": [
    "def EA():\n",
    "    # driver function for the Evolutionary Algorithm\n",
    "    pop_size = 50\n",
    "    dim = N\n",
    "    \n",
    "    population = np.zeros((pop_size, dim))\n",
    "    attack_score = np.zeros(pop_size) \n",
    "    best_attack_score = float('inf')    \n",
    "    \n",
    "    # create population\n",
    "    for i in range(pop_size):\n",
    "        population[i] = np.random.permutation(dim)\n",
    "        attack_score[i] = evaluate_board(population[i])\n",
    "        \n",
    "    population, attack_score = rank(population, attack_score)\n",
    "        \n",
    "    while((attack_score[0] != 0) and evaluate_board.calls<100000): # termination criteria\n",
    "        parent_id1, parent_id2 = selection(population, attack_score)\n",
    "        child_1, child_2 = crossover(population[parent_id1], population[parent_id2])\n",
    "        \n",
    "        child_1 = mutation(child_1)\n",
    "        child_2 = mutation(child_2)\n",
    "        \n",
    "        obj_1 = evaluate_board(child_1)\n",
    "        obj_2 = evaluate_board(child_2)\n",
    "        \n",
    "        # fitter child replaces its corresponding parent\n",
    "        if(obj_1 < attack_score[parent_id1]):\n",
    "            population[parent_id1] = child_1\n",
    "            attack_score[parent_id1] = obj_1\n",
    "            \n",
    "        if(obj_2 < attack_score[parent_id2]):\n",
    "            population[parent_id2] = child_2\n",
    "            attack_score[parent_id2] = obj_2\n",
    "            \n",
    "        rank(population, attack_score)\n",
    "    \n",
    "    if(attack_score[0] == 0):\n",
    "        print('Valid Combination Found!!!')\n",
    "        valid_comb = population[0]\n",
    "        chess_board = np.zeros((N, N))\n",
    "        for i in range(N):\n",
    "            chess_board[int(valid_comb[i]), i] = 1\n",
    "\n",
    "        print('Number of function evaluations required: {}'.format(evaluate_board.calls))\n",
    "        print('final board vector: {}'.format(valid_comb))\n",
    "        print('Valid Combination:\\n{}'.format(chess_board))\n",
    "    \n",
    "    else:\n",
    "        print('[Error!] Valid combination not found!!!')"
   ]
  },
  {
   "cell_type": "code",
   "execution_count": 22,
   "metadata": {},
   "outputs": [
    {
     "name": "stdout",
     "output_type": "stream",
     "text": [
      "Valid Combination Found!!!\n",
      "Number of function evaluations required: 47872\n",
      "final board vector: [ 6. 14. 12.  1.  9. 13. 10.  3.  0.  2.  7. 14. 11.  8.  5.]\n",
      "Valid Combination:\n",
      "[[0. 0. 0. 0. 0. 0. 0. 0. 1. 0. 0. 0. 0. 0. 0.]\n",
      " [0. 0. 0. 1. 0. 0. 0. 0. 0. 0. 0. 0. 0. 0. 0.]\n",
      " [0. 0. 0. 0. 0. 0. 0. 0. 0. 1. 0. 0. 0. 0. 0.]\n",
      " [0. 0. 0. 0. 0. 0. 0. 1. 0. 0. 0. 0. 0. 0. 0.]\n",
      " [0. 0. 0. 0. 0. 0. 0. 0. 0. 0. 0. 0. 0. 0. 0.]\n",
      " [0. 0. 0. 0. 0. 0. 0. 0. 0. 0. 0. 0. 0. 0. 1.]\n",
      " [1. 0. 0. 0. 0. 0. 0. 0. 0. 0. 0. 0. 0. 0. 0.]\n",
      " [0. 0. 0. 0. 0. 0. 0. 0. 0. 0. 1. 0. 0. 0. 0.]\n",
      " [0. 0. 0. 0. 0. 0. 0. 0. 0. 0. 0. 0. 0. 1. 0.]\n",
      " [0. 0. 0. 0. 1. 0. 0. 0. 0. 0. 0. 0. 0. 0. 0.]\n",
      " [0. 0. 0. 0. 0. 0. 1. 0. 0. 0. 0. 0. 0. 0. 0.]\n",
      " [0. 0. 0. 0. 0. 0. 0. 0. 0. 0. 0. 0. 1. 0. 0.]\n",
      " [0. 0. 1. 0. 0. 0. 0. 0. 0. 0. 0. 0. 0. 0. 0.]\n",
      " [0. 0. 0. 0. 0. 1. 0. 0. 0. 0. 0. 0. 0. 0. 0.]\n",
      " [0. 1. 0. 0. 0. 0. 0. 0. 0. 0. 0. 1. 0. 0. 0.]]\n"
     ]
    }
   ],
   "source": [
    "evaluate_board.calls=0\n",
    "EA()"
   ]
  },
  {
   "cell_type": "markdown",
   "metadata": {},
   "source": [
    "## Some Interesting Result\n",
    "\n",
    "The EA is able to find a valid combination perfectly till N=15. But after that, it is not able to find a solution every time.  \n",
    "Please note that there is a restriction on the number of function evaluations and some parameters which can be changed to see whether a particlaur combination works for N $\\geq$ 15. But that is not the purpose of this experimentation. The real purpose is to compare an EA with an exhasutive method.\n",
    "\n",
    "When we consider the exhaustive method, it takes huge time to find a valid combination. As the N increases, the processing time increases exponentially for the exhaustive method.\n",
    "\n",
    "The conclusion is that: The exhaustive method does scale well for increasing size of the problem, whereas the Evolutionary Algorithm shows clear scalability as the size of the problem increases.\n"
   ]
  },
  {
   "cell_type": "code",
   "execution_count": null,
   "metadata": {},
   "outputs": [],
   "source": []
  }
 ],
 "metadata": {
  "kernelspec": {
   "display_name": "Python 3",
   "language": "python",
   "name": "python3"
  },
  "language_info": {
   "codemirror_mode": {
    "name": "ipython",
    "version": 3
   },
   "file_extension": ".py",
   "mimetype": "text/x-python",
   "name": "python",
   "nbconvert_exporter": "python",
   "pygments_lexer": "ipython3",
   "version": "3.8.7"
  }
 },
 "nbformat": 4,
 "nbformat_minor": 4
}
