{
  "nbformat": 4,
  "nbformat_minor": 0,
  "metadata": {
    "colab": {
      "name": "NAS",
      "provenance": [],
      "collapsed_sections": [],
      "toc_visible": true
    },
    "kernelspec": {
      "name": "python3",
      "display_name": "Python 3"
    }
  },
  "cells": [
    {
      "cell_type": "markdown",
      "metadata": {
        "id": "SRxqMakh3PRY"
      },
      "source": [
        "Copyright 2019 Google LLC\n",
        "\n",
        "Licensed under the Apache License, Version 2.0 (the \"License\");\n",
        "you may not use this file except in compliance with the License.\n",
        "You may obtain a copy of the License at\n",
        "\n",
        "    https://www.apache.org/licenses/LICENSE-2.0\n",
        "\n",
        "Unless required by applicable law or agreed to in writing, software\n",
        "distributed under the License is distributed on an \"AS IS\" BASIS,\n",
        "WITHOUT WARRANTIES OR CONDITIONS OF ANY KIND, either express or implied.\n",
        "See the License for the specific language governing permissions and\n",
        "limitations under the License."
      ]
    },
    {
      "cell_type": "markdown",
      "metadata": {
        "id": "47ieDn-jNLYd"
      },
      "source": [
        "# NASBench-101\n",
        "\n",
        "This colab accompanies [**NAS-Bench-101: Towards Reproducible Neural Architecture Search**](https://arxiv.org/abs/1902.09635) and the rest of the code at https://github.com/google-research/nasbench.\n",
        "\n",
        "In this colab, we demonstrate how to use the dataset for simple benchmarking and analysis. The publicly available and free hosted colab instances are sufficient to run this colab."
      ]
    },
    {
      "cell_type": "markdown",
      "metadata": {
        "id": "lBNMsBUS3SAq"
      },
      "source": [
        "## Load NAS-Bench-101 library and dataset"
      ]
    },
    {
      "cell_type": "code",
      "metadata": {
        "id": "vl1oLYux3FhJ",
        "colab": {
          "base_uri": "https://localhost:8080/"
        },
        "outputId": "9eee939b-e373-40fd-b9e2-10a52049028a"
      },
      "source": [
        "%tensorflow_version 1.x\n",
        "!curl -O https://storage.googleapis.com/nasbench/nasbench_only108.tfrecord\n",
        "!git clone https://github.com/google-research/nasbench\n",
        "!pip install ./nasbench\n",
        "\n",
        "from nasbench import api\n",
        "\n",
        "nasbench = api.NASBench('nasbench_only108.tfrecord')"
      ],
      "execution_count": null,
      "outputs": [
        {
          "output_type": "stream",
          "text": [
            "TensorFlow 1.x selected.\n",
            "  % Total    % Received % Xferd  Average Speed   Time    Time     Time  Current\n",
            "                                 Dload  Upload   Total   Spent    Left  Speed\n",
            "100  498M  100  498M    0     0   233M      0  0:00:02  0:00:02 --:--:--  233M\n",
            "fatal: destination path 'nasbench' already exists and is not an empty directory.\n",
            "Processing ./nasbench\n",
            "Requirement already satisfied: tensorflow>=1.12.0 in /tensorflow-1.15.2/python3.7 (from nasbench==1.0) (1.15.2)\n",
            "Collecting gast==0.2.2\n",
            "  Downloading https://files.pythonhosted.org/packages/4e/35/11749bf99b2d4e3cceb4d55ca22590b0d7c2c62b9de38ac4a4a7f4687421/gast-0.2.2.tar.gz\n",
            "Requirement already satisfied: termcolor>=1.1.0 in /usr/local/lib/python3.7/dist-packages (from tensorflow>=1.12.0->nasbench==1.0) (1.1.0)\n",
            "Requirement already satisfied: wheel>=0.26; python_version >= \"3\" in /usr/local/lib/python3.7/dist-packages (from tensorflow>=1.12.0->nasbench==1.0) (0.36.2)\n",
            "Requirement already satisfied: numpy<2.0,>=1.16.0 in /usr/local/lib/python3.7/dist-packages (from tensorflow>=1.12.0->nasbench==1.0) (1.19.5)\n",
            "Requirement already satisfied: wrapt>=1.11.1 in /usr/local/lib/python3.7/dist-packages (from tensorflow>=1.12.0->nasbench==1.0) (1.12.1)\n",
            "Requirement already satisfied: keras-applications>=1.0.8 in /tensorflow-1.15.2/python3.7 (from tensorflow>=1.12.0->nasbench==1.0) (1.0.8)\n",
            "Requirement already satisfied: astor>=0.6.0 in /usr/local/lib/python3.7/dist-packages (from tensorflow>=1.12.0->nasbench==1.0) (0.8.1)\n",
            "Requirement already satisfied: tensorboard<1.16.0,>=1.15.0 in /tensorflow-1.15.2/python3.7 (from tensorflow>=1.12.0->nasbench==1.0) (1.15.0)\n",
            "Requirement already satisfied: keras-preprocessing>=1.0.5 in /usr/local/lib/python3.7/dist-packages (from tensorflow>=1.12.0->nasbench==1.0) (1.1.2)\n",
            "Requirement already satisfied: google-pasta>=0.1.6 in /usr/local/lib/python3.7/dist-packages (from tensorflow>=1.12.0->nasbench==1.0) (0.2.0)\n",
            "Requirement already satisfied: grpcio>=1.8.6 in /usr/local/lib/python3.7/dist-packages (from tensorflow>=1.12.0->nasbench==1.0) (1.32.0)\n",
            "Requirement already satisfied: tensorflow-estimator==1.15.1 in /tensorflow-1.15.2/python3.7 (from tensorflow>=1.12.0->nasbench==1.0) (1.15.1)\n",
            "Requirement already satisfied: opt-einsum>=2.3.2 in /usr/local/lib/python3.7/dist-packages (from tensorflow>=1.12.0->nasbench==1.0) (3.3.0)\n",
            "Requirement already satisfied: six>=1.10.0 in /usr/local/lib/python3.7/dist-packages (from tensorflow>=1.12.0->nasbench==1.0) (1.15.0)\n",
            "Requirement already satisfied: absl-py>=0.7.0 in /usr/local/lib/python3.7/dist-packages (from tensorflow>=1.12.0->nasbench==1.0) (0.10.0)\n",
            "Requirement already satisfied: protobuf>=3.6.1 in /usr/local/lib/python3.7/dist-packages (from tensorflow>=1.12.0->nasbench==1.0) (3.12.4)\n",
            "Requirement already satisfied: h5py in /usr/local/lib/python3.7/dist-packages (from keras-applications>=1.0.8->tensorflow>=1.12.0->nasbench==1.0) (2.10.0)\n",
            "Requirement already satisfied: markdown>=2.6.8 in /usr/local/lib/python3.7/dist-packages (from tensorboard<1.16.0,>=1.15.0->tensorflow>=1.12.0->nasbench==1.0) (3.3.4)\n",
            "Requirement already satisfied: setuptools>=41.0.0 in /usr/local/lib/python3.7/dist-packages (from tensorboard<1.16.0,>=1.15.0->tensorflow>=1.12.0->nasbench==1.0) (54.1.2)\n",
            "Requirement already satisfied: werkzeug>=0.11.15 in /usr/local/lib/python3.7/dist-packages (from tensorboard<1.16.0,>=1.15.0->tensorflow>=1.12.0->nasbench==1.0) (1.0.1)\n",
            "Requirement already satisfied: importlib-metadata; python_version < \"3.8\" in /usr/local/lib/python3.7/dist-packages (from markdown>=2.6.8->tensorboard<1.16.0,>=1.15.0->tensorflow>=1.12.0->nasbench==1.0) (3.7.2)\n",
            "Requirement already satisfied: typing-extensions>=3.6.4; python_version < \"3.8\" in /usr/local/lib/python3.7/dist-packages (from importlib-metadata; python_version < \"3.8\"->markdown>=2.6.8->tensorboard<1.16.0,>=1.15.0->tensorflow>=1.12.0->nasbench==1.0) (3.7.4.3)\n",
            "Requirement already satisfied: zipp>=0.5 in /usr/local/lib/python3.7/dist-packages (from importlib-metadata; python_version < \"3.8\"->markdown>=2.6.8->tensorboard<1.16.0,>=1.15.0->tensorflow>=1.12.0->nasbench==1.0) (3.4.1)\n",
            "Building wheels for collected packages: nasbench, gast\n",
            "  Building wheel for nasbench (setup.py) ... \u001b[?25l\u001b[?25hdone\n",
            "  Created wheel for nasbench: filename=nasbench-1.0-cp37-none-any.whl size=46788 sha256=ee455463e243823678d5fa25532225550de0947b371538ec25fe125ca0dd0024\n",
            "  Stored in directory: /tmp/pip-ephem-wheel-cache-hqz3sea0/wheels/4b/19/99/1d5fdfe30f8b16fab91e900808f4f7e5adc38e602c84970ad5\n",
            "  Building wheel for gast (setup.py) ... \u001b[?25l\u001b[?25hdone\n",
            "  Created wheel for gast: filename=gast-0.2.2-cp37-none-any.whl size=7540 sha256=4c149a257eff3fb863ee3698abba25c2751067706d34084c750d88928d0dba26\n",
            "  Stored in directory: /root/.cache/pip/wheels/5c/2e/7e/a1d4d4fcebe6c381f378ce7743a3ced3699feb89bcfbdadadd\n",
            "Successfully built nasbench gast\n",
            "Installing collected packages: nasbench, gast\n",
            "  Found existing installation: nasbench 1.0\n",
            "    Uninstalling nasbench-1.0:\n",
            "      Successfully uninstalled nasbench-1.0\n",
            "  Found existing installation: gast 0.3.3\n",
            "    Uninstalling gast-0.3.3:\n",
            "      Successfully uninstalled gast-0.3.3\n",
            "Successfully installed gast-0.2.2 nasbench-1.0\n",
            "WARNING:tensorflow:From /usr/local/lib/python3.7/dist-packages/nasbench/lib/training_time.py:130: The name tf.train.SessionRunHook is deprecated. Please use tf.estimator.SessionRunHook instead.\n",
            "\n",
            "WARNING:tensorflow:From /usr/local/lib/python3.7/dist-packages/nasbench/lib/training_time.py:174: The name tf.train.CheckpointSaverListener is deprecated. Please use tf.estimator.CheckpointSaverListener instead.\n",
            "\n",
            "WARNING:tensorflow:From /usr/local/lib/python3.7/dist-packages/nasbench/lib/evaluate.py:30: The name tf.train.NanLossDuringTrainingError is deprecated. Please use tf.estimator.NanLossDuringTrainingError instead.\n",
            "\n",
            "Loading dataset from file... This may take a few minutes...\n",
            "WARNING:tensorflow:From /usr/local/lib/python3.7/dist-packages/nasbench/api.py:146: tf_record_iterator (from tensorflow.python.lib.io.tf_record) is deprecated and will be removed in a future version.\n",
            "Instructions for updating:\n",
            "Use eager execution and: \n",
            "`tf.data.TFRecordDataset(path)`\n",
            "Loaded dataset in 73 seconds\n"
          ],
          "name": "stdout"
        }
      ]
    },
    {
      "cell_type": "code",
      "metadata": {
        "id": "oFhFRmck7NzM"
      },
      "source": [
        "# Standard imports\n",
        "import copy\n",
        "import numpy as np\n",
        "import matplotlib.pyplot as plt\n",
        "import random\n",
        "\n",
        "# Useful constants\n",
        "INPUT = 'input'\n",
        "OUTPUT = 'output'\n",
        "CONV3X3 = 'conv3x3-bn-relu'\n",
        "CONV1X1 = 'conv1x1-bn-relu'\n",
        "MAXPOOL3X3 = 'maxpool3x3'\n",
        "NUM_VERTICES = 7\n",
        "MAX_EDGES = 9\n",
        "EDGE_SPOTS = NUM_VERTICES * (NUM_VERTICES - 1) / 2   # Upper triangular matrix\n",
        "OP_SPOTS = NUM_VERTICES - 2   # Input/output vertices are fixed\n",
        "ALLOWED_OPS = [CONV3X3, CONV1X1, MAXPOOL3X3]\n",
        "ALLOWED_EDGES = [0, 1]   # Binary adjacency matrix"
      ],
      "execution_count": null,
      "outputs": []
    },
    {
      "cell_type": "markdown",
      "metadata": {
        "id": "llC2AebQOWq9"
      },
      "source": [
        "## Basic usage"
      ]
    },
    {
      "cell_type": "code",
      "metadata": {
        "id": "kZvm6i0VGP_M",
        "colab": {
          "base_uri": "https://localhost:8080/"
        },
        "outputId": "e9942125-bcf6-4a25-d862-d656516c674f"
      },
      "source": [
        "# Query an Inception-like cell from the dataset.\n",
        "cell = api.ModelSpec(\n",
        "  matrix=[[0, 1, 1, 1, 0, 1, 0],    # input layer\n",
        "          [0, 0, 0, 0, 0, 0, 1],    # 1x1 conv\n",
        "          [0, 0, 0, 0, 0, 0, 1],    # 3x3 conv\n",
        "          [0, 0, 0, 0, 0, 0, 0],    # 5x5 conv (replaced by two 3x3's)\n",
        "          [0, 0, 0, 0, 0, 0, 0],    # 5x5 conv (replaced by two 3x3's)\n",
        "          [0, 0, 0, 0, 0, 0, 1],    # 3x3 max-pool\n",
        "          [0, 0, 0, 0, 0, 0, 0]],   # output layer\n",
        "  # Operations at the vertices of the module, matches order of matrix.\n",
        "  ops=[INPUT, CONV1X1, CONV3X3, CONV3X3, CONV3X3, MAXPOOL3X3, OUTPUT])\n",
        "\n",
        "# Querying multiple times may yield different results. Each cell is evaluated 3\n",
        "# times at each epoch budget and querying will sample one randomly.\n",
        "data = nasbench.query(cell)\n",
        "for k, v in data.items():\n",
        "  print('%s: %s' % (k, str(v)))"
      ],
      "execution_count": null,
      "outputs": [
        {
          "output_type": "stream",
          "text": [
            "module_adjacency: [[0 1 1 1 0]\n",
            " [0 0 0 0 1]\n",
            " [0 0 0 0 1]\n",
            " [0 0 0 0 1]\n",
            " [0 0 0 0 0]]\n",
            "module_operations: ['input', 'conv3x3-bn-relu', 'conv1x1-bn-relu', 'maxpool3x3', 'output']\n",
            "trainable_parameters: 2040231\n",
            "training_time: 1049.35205078125\n",
            "train_accuracy: 1.0\n",
            "validation_accuracy: 0.926682710647583\n",
            "test_accuracy: 0.9168669581413269\n"
          ],
          "name": "stdout"
        }
      ]
    },
    {
      "cell_type": "code",
      "metadata": {
        "id": "fZuO-WgnL_T6"
      },
      "source": [
        "def fitness(solution):\n",
        "  spec = api.ModelSpec(matrix=solution.matrix, ops=solution.ops)\n",
        "  if nasbench.is_valid(spec):\n",
        "    metrics = nasbench.query(spec)\n",
        "    return metrics['validation_accuracy']\n",
        "  else:\n",
        "    return 0\n",
        "\n",
        "def call_counter(fn):\n",
        "    # hierarchical function to count number of evaluation calls\n",
        "    def helper(*args, **kwargs):\n",
        "        helper.calls += 1\n",
        "        cur_val = fn(*args, **kwargs)\n",
        "        if(cur_val > helper.best_val):\n",
        "          helper.best_val = cur_val\n",
        "          print('Best Val:{}, Func Eval:{}'.format(helper.best_val, helper.calls))\n",
        "        \n",
        "        return cur_val\n",
        "    helper.__name__ = fn.__name__\n",
        "    helper.calls = 0\n",
        "    helper.best_val = float('-inf')\n",
        "    return helper\n",
        "\n",
        "fitness = call_counter(fitness)\n",
        "\n",
        "class Candidate():\n",
        "  def __init__(self, matrix, ops):\n",
        "    self.matrix = matrix\n",
        "    self.ops = ops"
      ],
      "execution_count": null,
      "outputs": []
    },
    {
      "cell_type": "code",
      "metadata": {
        "id": "qKEcXE9fODG0"
      },
      "source": [
        "def mutation(solution, mutation_rate=1.0):\n",
        "  while True:\n",
        "    new_matrix = solution.matrix.copy()\n",
        "    new_ops = solution.ops.copy()\n",
        "\n",
        "    # In expectation, V edges flipped (note that most end up being pruned).\n",
        "    edge_mutation_prob = mutation_rate / NUM_VERTICES\n",
        "    for src in range(0, NUM_VERTICES - 1):\n",
        "      for dst in range(src + 1, NUM_VERTICES):\n",
        "        if random.random() < edge_mutation_prob:\n",
        "          new_matrix[src, dst] = 1 - new_matrix[src, dst]\n",
        "       \n",
        "    # In expectation, one op is resampled.\n",
        "    op_mutation_prob = mutation_rate / OP_SPOTS\n",
        "    for ind in range(1, NUM_VERTICES - 1):\n",
        "      if random.random() < op_mutation_prob:\n",
        "        available = [o for o in nasbench.config['available_ops'] if o != new_ops[ind]]\n",
        "        new_ops[ind] = random.choice(available)\n",
        "    \n",
        "    # print('new_matrix')\n",
        "    # print(np.shape(new_matrix))\n",
        "    new_spec = api.ModelSpec(new_matrix, new_ops)\n",
        "    if nasbench.is_valid(new_spec):\n",
        "      return Candidate(new_matrix, new_ops)\n",
        "\n",
        "def crossover(parent1, parent2):\n",
        "  child1_mat = np.zeros((NUM_VERTICES, NUM_VERTICES),dtype=int)\n",
        "  child1_ops = []\n",
        "  child2_mat = np.zeros((NUM_VERTICES, NUM_VERTICES),dtype=int)\n",
        "  child2_ops = []\n",
        "  cross_point = np.random.randint(NUM_VERTICES-2)+1\n",
        "  \n",
        "  for i in range(NUM_VERTICES):\n",
        "    if i<cross_point:\n",
        "      child1_ops.append(parent1.ops[i])\n",
        "      child1_mat[:,i] = parent1.matrix[:,i]\n",
        "      child2_ops.append(parent2.ops[i])\n",
        "      child2_mat[:,i] = parent2.matrix[:,i]\n",
        "\n",
        "    else:\n",
        "      child1_ops.append(parent2.ops[i])\n",
        "      child1_mat[:,i] = parent2.matrix[:,i]\n",
        "      child2_ops.append(parent1.ops[i])\n",
        "      child2_mat[:,i] = parent1.matrix[:,i]\n",
        "\n",
        "  child1 = Candidate(child1_mat, child1_ops)\n",
        "  child2 = Candidate(child2_mat, child2_ops)\n",
        "  return child1, child2\n",
        "\n",
        "\n",
        "def selection(population, objective):\n",
        "    # function to perform tournament selection\n",
        "    K = 5\n",
        "    num_pop = len(population)\n",
        "    perm = np.random.permutation(num_pop)\n",
        "    pop_comb = perm[0:K]\n",
        "    tournament_fit = np.zeros(K)\n",
        "\n",
        "    # creating tournament population\n",
        "    for i in range(K):\n",
        "        tournament_fit[i] = objective[pop_comb[i]]\n",
        "\n",
        "    # declaring winners\n",
        "    idx = np.argsort(tournament_fit)\n",
        "    parent_id1 = idx[0] \n",
        "    parent_id2 = idx[1]\n",
        "    return parent_id1, parent_id2\n",
        "\n",
        "def initialization(pop_size):\n",
        "  # function for initialization\n",
        "    population = []\n",
        "    for pop_no in range(pop_size):\n",
        "      matrix = np.random.choice(ALLOWED_EDGES, size=(NUM_VERTICES, NUM_VERTICES))\n",
        "      matrix = np.triu(matrix, 1)\n",
        "      ops = np.random.choice(ALLOWED_OPS, size=(NUM_VERTICES)).tolist()\n",
        "      ops[0] = INPUT\n",
        "      ops[-1] = OUTPUT\n",
        "      population.append(Candidate(matrix, ops))\n",
        "\n",
        "    return population"
      ],
      "execution_count": null,
      "outputs": []
    },
    {
      "cell_type": "code",
      "metadata": {
        "id": "NnJdOvLhfWt5"
      },
      "source": [
        "def GA(pop_size=50, num_gen=100, max_cross=10, cross_mut_prob=0.5):\n",
        "  # main driver function for GA\n",
        "  population = initialization(pop_size)\n",
        "  obj_values = np.zeros(pop_size)\n",
        "  avg_values = np.zeros(num_gen)\n",
        "\n",
        "  for pop_no in range(pop_size):\n",
        "    # calculate fitness for all the chromosomes\n",
        "    obj_values[pop_no] = fitness(population[pop_no])\n",
        "\n",
        "  for gen_no in range(num_gen):\n",
        "    avg_values[gen_no] = np.mean(obj_values)\n",
        " \n",
        "    for i in range(max_cross):\n",
        "      if(np.random.rand()<cross_mut_prob):\n",
        "\n",
        "        # parent selection\n",
        "        parent_id1, parent_id2 = selection(population, obj_values)\n",
        "\n",
        "        # crossover\n",
        "        child_1, child_2 = crossover(population[parent_id1], population[parent_id2])\n",
        "\n",
        "        # mutation\n",
        "        child_1 = mutation(child_1)\n",
        "        child_2 = mutation(child_2)\n",
        "\n",
        "        # child fitness computation\n",
        "        obj_1 = fitness(child_1)\n",
        "        obj_2 = fitness(child_2)\n",
        "        \n",
        "        # child replaces the worst solution if applicable\n",
        "        if(obj_1 > min(obj_values)):\n",
        "            idx = np.argmin(obj_values)\n",
        "            population[idx] = child_1\n",
        "            obj_values[idx] = obj_1\n",
        "            \n",
        "        if(obj_2 > min(obj_values)):\n",
        "            idx = np.argmin(obj_values)\n",
        "            population[idx] = child_2\n",
        "            obj_values[idx] = obj_2\n",
        "\n",
        "  return avg_values"
      ],
      "execution_count": null,
      "outputs": []
    },
    {
      "cell_type": "code",
      "metadata": {
        "colab": {
          "base_uri": "https://localhost:8080/"
        },
        "id": "xR1dBc8ajZ_3",
        "outputId": "83e70e3f-1a37-4e15-f42c-87a236216221"
      },
      "source": [
        "pop_size=50\n",
        "num_gen=100\n",
        "cross_mut_prob=0.5\n",
        "num_runs = 30\n",
        "max_cross = 10\n",
        "\n",
        "avg_val_plot = np.zeros((num_runs, num_gen))\n",
        "\n",
        "for i in range(num_runs):\n",
        "  avg_val_plot[i,:] = GA(pop_size=pop_size, num_gen=num_gen, max_cross=max_cross, cross_mut_prob=cross_mut_prob)"
      ],
      "execution_count": null,
      "outputs": [
        {
          "output_type": "stream",
          "text": [
            "Best Val:0.9490184187889099, Func Eval:5625\n",
            "Best Val:0.9504206776618958, Func Eval:14764\n",
            "Best Val:0.9511218070983887, Func Eval:16516\n",
            "Best Val:0.9518229365348816, Func Eval:29781\n"
          ],
          "name": "stdout"
        }
      ]
    },
    {
      "cell_type": "code",
      "metadata": {
        "colab": {
          "base_uri": "https://localhost:8080/",
          "height": 312
        },
        "id": "ry6MiWkici5d",
        "outputId": "fb94bd19-1ffa-4441-fbe3-7714c89c400f"
      },
      "source": [
        "from matplotlib import pyplot as plt \n",
        "\n",
        "X = list(range(1, num_gen+1))\n",
        "Y = avg_val_plot\n",
        "# print(Y[1])\n",
        "for i in range(num_runs):\n",
        "  plt.plot(X, Y[i,:])\n",
        "\n",
        "plt.title('Average fitness of the population over the generations')\n",
        "plt.xlabel('Number of generations')\n",
        "plt.ylabel('Average Fitness Score')"
      ],
      "execution_count": null,
      "outputs": [
        {
          "output_type": "execute_result",
          "data": {
            "text/plain": [
              "Text(0, 0.5, 'Average Fitness Score')"
            ]
          },
          "metadata": {
            "tags": []
          },
          "execution_count": 21
        },
        {
          "output_type": "display_data",
          "data": {
            "image/png": "[encoded data removed]",
            "text/plain": [
              "<Figure size 432x288 with 1 Axes>"
            ]
          },
          "metadata": {
            "tags": [],
            "needs_background": "light"
          }
        }
      ]
    },
    {
      "cell_type": "code",
      "metadata": {
        "id": "r62IiK5KxMHC"
      },
      "source": [
        "  "
      ],
      "execution_count": null,
      "outputs": []
    }
  ]
}